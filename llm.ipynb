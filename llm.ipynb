{
  "cells": [
    {
      "cell_type": "raw",
      "metadata": {},
      "source": [
        "---\n",
        "editor: \n",
        "  markdown: \n",
        "    wrap: 72\n",
        "editor_options: \n",
        "  chunk_output_type: console\n",
        "---"
      ],
      "id": "21d0cff8"
    },
    {
      "cell_type": "markdown",
      "metadata": {},
      "source": [
        "# 오픈 LLM 리더보드\n",
        "\n",
        "\n",
        "1. mkdir AI_Projects\n",
        "1. conda create -n sql python=3.11\n",
        "1. conda activate sql\n"
      ],
      "id": "78963e67"
    },
    {
      "cell_type": "code",
      "metadata": {},
      "source": [
        "#| eval: false\n",
        "\n",
        "#-*- coding: utf-8 -*- \n",
        "\n",
        "# Example: reuse your existing OpenAI setup\n",
        "from openai import OpenAI\n",
        "\n",
        "# Point to the local server\n",
        "client = OpenAI(base_url = \"http://localhost:1234/v1\", \n",
        "                api_key  = \"not-needed\")\n",
        "\n",
        "system_message = \"\"\"\n",
        "You are an expert in SQL. The following table definitions have been provided to you. Please convert my query into an appropriate SQL statement. \\n\n",
        "    \n",
        "    CREATE TABLE Person(\n",
        "            ident    text,\n",
        "            personal text,\n",
        "            family   text\n",
        "    );\n",
        "    CREATE TABLE Site(\n",
        "            name text,\n",
        "            lat  real,\n",
        "            long real\n",
        "    );\n",
        "    CREATE TABLE Visited(\n",
        "            ident integer,\n",
        "            site  text,\n",
        "            dated text\n",
        "    );\n",
        "    CREATE TABLE Survey(\n",
        "            taken   integer,\n",
        "            person  text,\n",
        "            quant   text,\n",
        "            reading real\n",
        "    ); \\n\n",
        "\"\"\"    \n",
        "\n",
        "completion = client.chat.completions.create(\n",
        "  model=\"local-model\", # this field is currently unused\n",
        "  messages=[\n",
        "    {\"role\": \"system\", \n",
        "    \"content\": system_message},\n",
        "    {\"role\": \"user\", \n",
        "    \"content\": \"No explanation. Write only SQL query that returns - display the names of scientists\"}\n",
        "  ],\n",
        "  temperature=0.7,\n",
        ")\n",
        "\n",
        "print(completion.choices[0].message.content)"
      ],
      "id": "e3bea363",
      "execution_count": null,
      "outputs": []
    },
    {
      "cell_type": "markdown",
      "metadata": {},
      "source": [
        "``` bash\n",
        "SELECT DISTINCT p.ident FROM person p JOIN visited v ON p.ident = v.ident JOIN survey s ON p.ident = s.person WHERE s.quant ILIKE '%radiation%';\n",
        "```\n"
      ],
      "id": "faed7a13"
    }
  ],
  "metadata": {
    "kernelspec": {
      "name": "python3",
      "language": "python",
      "display_name": "Python 3 (ipykernel)"
    }
  },
  "nbformat": 4,
  "nbformat_minor": 5
}